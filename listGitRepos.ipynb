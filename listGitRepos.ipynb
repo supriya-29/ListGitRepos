{
 "cells": [
  {
   "cell_type": "code",
   "execution_count": 1,
   "metadata": {},
   "outputs": [
    {
     "name": "stdout",
     "output_type": "stream",
     "text": [
      "Requirement already satisfied: PyGithub in c:\\users\\supriya\\appdata\\local\\continuum\\anaconda3\\lib\\site-packages (1.43.3)\n",
      "Requirement already satisfied: Deprecated in c:\\users\\supriya\\appdata\\local\\continuum\\anaconda3\\lib\\site-packages (from PyGithub) (1.2.4)\n",
      "Requirement already satisfied: requests>=2.14.0 in c:\\users\\supriya\\appdata\\local\\continuum\\anaconda3\\lib\\site-packages (from PyGithub) (2.19.1)\n",
      "Requirement already satisfied: pyjwt in c:\\users\\supriya\\appdata\\local\\continuum\\anaconda3\\lib\\site-packages (from PyGithub) (1.7.1)\n",
      "Requirement already satisfied: wrapt<2,>=1 in c:\\users\\supriya\\appdata\\local\\continuum\\anaconda3\\lib\\site-packages (from Deprecated->PyGithub) (1.10.11)\n",
      "Requirement already satisfied: certifi>=2017.4.17 in c:\\users\\supriya\\appdata\\local\\continuum\\anaconda3\\lib\\site-packages (from requests>=2.14.0->PyGithub) (2018.8.24)\n",
      "Requirement already satisfied: chardet<3.1.0,>=3.0.2 in c:\\users\\supriya\\appdata\\local\\continuum\\anaconda3\\lib\\site-packages (from requests>=2.14.0->PyGithub) (3.0.4)\n",
      "Requirement already satisfied: idna<2.8,>=2.5 in c:\\users\\supriya\\appdata\\local\\continuum\\anaconda3\\lib\\site-packages (from requests>=2.14.0->PyGithub) (2.7)\n",
      "Requirement already satisfied: urllib3<1.24,>=1.21.1 in c:\\users\\supriya\\appdata\\local\\continuum\\anaconda3\\lib\\site-packages (from requests>=2.14.0->PyGithub) (1.23)\n"
     ]
    },
    {
     "name": "stderr",
     "output_type": "stream",
     "text": [
      "twisted 18.7.0 requires PyHamcrest>=1.9.0, which is not installed.\n",
      "You are using pip version 10.0.1, however version 18.1 is available.\n",
      "You should consider upgrading via the 'python -m pip install --upgrade pip' command.\n"
     ]
    }
   ],
   "source": [
    "!pip install PyGithub"
   ]
  },
  {
   "cell_type": "code",
   "execution_count": 2,
   "metadata": {},
   "outputs": [],
   "source": [
    "import pandas as pd\n",
    "from github import Github"
   ]
  },
  {
   "cell_type": "code",
   "execution_count": 3,
   "metadata": {},
   "outputs": [
    {
     "name": "stdout",
     "output_type": "stream",
     "text": [
      "Public Repositories accessible to my account:\n",
      "\n",
      "ListGitRepos\n",
      "Test1\n",
      "Test2\n"
     ]
    }
   ],
   "source": [
    "g = Github('supriya-29','Password-1@#')\n",
    "\n",
    "print('Public Repositories accessible to my account:\\n')\n",
    "for repo in g.get_user().get_repos():\n",
    "    print(repo.name)"
   ]
  }
 ],
 "metadata": {
  "kernelspec": {
   "display_name": "Python 3",
   "language": "python",
   "name": "python3"
  },
  "language_info": {
   "codemirror_mode": {
    "name": "ipython",
    "version": 3
   },
   "file_extension": ".py",
   "mimetype": "text/x-python",
   "name": "python",
   "nbconvert_exporter": "python",
   "pygments_lexer": "ipython3",
   "version": "3.7.0"
  }
 },
 "nbformat": 4,
 "nbformat_minor": 2
}
